{
 "cells": [
  {
   "cell_type": "code",
   "execution_count": 1,
   "metadata": {
    "collapsed": true
   },
   "outputs": [],
   "source": [
    "import math\n",
    "import os\n",
    "import glob\n",
    "import numpy as np\n",
    "import pandas as pd\n",
    "import matplotlib.pyplot as plt\n",
    "import itertools\n",
    "import math\n",
    "import random"
   ]
  },
  {
   "cell_type": "markdown",
   "source": [
    "# Import data"
   ],
   "metadata": {
    "collapsed": false,
    "pycharm": {
     "name": "#%% md\n"
    }
   }
  },
  {
   "cell_type": "code",
   "execution_count": 2,
   "outputs": [],
   "source": [
    "ac_path = r'C:\\Users\\mhrahman\\OneDrive - University of Arkansas\\RL_\\Action'\n",
    "os.chdir(ac_path)\n",
    "all_file = os.listdir(ac_path)\n",
    "\n",
    "all_action = []\n",
    "for i in range(len(all_file)):\n",
    "    p = list(pd.read_csv(all_file[i])['0'])\n",
    "    all_action.append(p)\n",
    "Merge_action = list(itertools.chain(*all_action))\n",
    "Unique_action = set(Merge_action)\n",
    "process = list(Unique_action)"
   ],
   "metadata": {
    "collapsed": false,
    "pycharm": {
     "name": "#%%\n"
    }
   }
  },
  {
   "cell_type": "code",
   "execution_count": 5,
   "outputs": [
    {
     "data": {
      "text/plain": "['Show', 'Edit', 'Remove', 'Analysis', 'Formulation', 'Cost']"
     },
     "execution_count": 5,
     "metadata": {},
     "output_type": "execute_result"
    }
   ],
   "source": [
    "process\n",
    "state_process = [sub.replace('Add','Formulation') for sub in process]\n",
    "state_process"
   ],
   "metadata": {
    "collapsed": false,
    "pycharm": {
     "name": "#%%\n"
    }
   }
  },
  {
   "cell_type": "code",
   "execution_count": 19,
   "outputs": [],
   "source": [
    "def first_order(df):\n",
    "    Freq_count_1=pd.DataFrame(0,columns=process,index=process)\n",
    "    Trans_prob_1=pd.DataFrame(0,columns=process,index=process)\n",
    "    for i in range(len(process)):\n",
    "        for j in range(len(process)):\n",
    "            for k in range(len(df)-1):\n",
    "                if((process[i]+ process[j])==(df['0'][k]+df['0'][k+1])):\n",
    "                    Freq_count_1.iloc[i,j] +=1\n",
    "    for i in range(len(Trans_prob_1)):\n",
    "        Trans_prob_1.iloc[i,:]= Freq_count_1.iloc[i,:]/Freq_count_1.iloc[i,:].sum()\n",
    "    Trans_prob_1=Trans_prob_1.fillna(0)\n",
    "    return Trans_prob_1"
   ],
   "metadata": {
    "collapsed": false,
    "pycharm": {
     "name": "#%%\n"
    }
   }
  },
  {
   "cell_type": "code",
   "execution_count": 20,
   "outputs": [
    {
     "data": {
      "text/plain": "{'Show': 0, 'Edit': 1, 'Remove': 2, 'Analysis': 3, 'Formulation': 4, 'Cost': 5}"
     },
     "execution_count": 20,
     "metadata": {},
     "output_type": "execute_result"
    }
   ],
   "source": [
    "def state_location(unique_actions):\n",
    "    dic = {j:i for i,j in enumerate(unique_actions)}\n",
    "    return dic\n",
    "location_to_states = state_location(state_process)\n",
    "actions = [0,1,2,3,4,5]\n",
    "\n",
    "state_to_location = dict((state,location) for location, state in location_to_states.items())\n",
    "location_to_states"
   ],
   "metadata": {
    "collapsed": false,
    "pycharm": {
     "name": "#%%\n"
    }
   }
  },
  {
   "cell_type": "code",
   "execution_count": 21,
   "outputs": [],
   "source": [
    "def Q_table(end_location,reward,alpha = 0.1,gamma = 0.3,iteration=10000):\n",
    "    reward_copy = np.copy(reward)\n",
    "    ending_state = location_to_states[end_location]\n",
    "    Q = np.array(np.zeros([6,6]))\n",
    "    for i in range(iteration):\n",
    "        current_state = np.random.randint(0,6)\n",
    "        playable_actions = []\n",
    "        for j in range(6):\n",
    "            if reward_copy[current_state,j]>=0:\n",
    "                playable_actions.append(j)\n",
    "        next_state = np.random.choice(playable_actions)\n",
    "        TD = reward_copy[current_state,next_state] + gamma * Q [next_state, np.argmax(Q[next_state,])] - Q[current_state, next_state]\n",
    "        Q[current_state,next_state] += alpha * TD\n",
    "    return Q"
   ],
   "metadata": {
    "collapsed": false,
    "pycharm": {
     "name": "#%%\n"
    }
   }
  },
  {
   "cell_type": "code",
   "execution_count": 9,
   "outputs": [],
   "source": [
    "# Probability function\n",
    "def prob(theta,Q):\n",
    "    a = np.exp(theta * Q)\n",
    "    return a / a.sum(axis= 0)\n",
    "\n",
    "def softmax(x):\n",
    "    \"\"\"Compute softmax values for each sets of scores in x.\"\"\"\n",
    "    e_x = np.exp(x - np.max(x))\n",
    "    return e_x / e_x.sum(axis=0)\n",
    "\n",
    "def accuracy(pred,actual):\n",
    "    loss = sum([x != y for x, y in zip(pred, actual)])\n",
    "    acc = 1 - loss/len(pred)\n",
    "    return acc"
   ],
   "metadata": {
    "collapsed": false,
    "pycharm": {
     "name": "#%%\n"
    }
   }
  },
  {
   "cell_type": "code",
   "execution_count": 66,
   "outputs": [],
   "source": [
    "def sequence_generator(df,Q,start_theta=1,end_theta=10,iteration = 50,max = False):\n",
    "#    sequences = []\n",
    "#    for l in range(len(df)):\n",
    "#        seq = pd.read_csv(file[l])['0']\n",
    "    seq = df['0']\n",
    "    seq = [sub.replace('Add','Formulation') for sub in seq]\n",
    "    total_route = []\n",
    "    for j in np.arange(start_theta,end_theta,1):\n",
    "        route_50 = []\n",
    "        for k in range(iteration):\n",
    "            start_action = seq[0]\n",
    "            route = [start_action]\n",
    "            #    next_action = start_action\n",
    "            for i in range(len(seq)-1):\n",
    "                starting_state = location_to_states[start_action]\n",
    "                if max == False:\n",
    "                    next_state = random.choices(np.arange(0,6),(prob(j,Q[starting_state,])))[0]\n",
    "                else:\n",
    "                    next_state = np.argmax(Q[starting_state,])\n",
    "                next_action = state_to_location[next_state]\n",
    "                route.append(next_action)\n",
    "                route = [sub.replace('Formulation','Add') for sub in route]\n",
    "                start_action = seq[i + 1]\n",
    "            route_50.append(route)\n",
    "        total_route.append(route_50)\n",
    "#        sequences.append(total_route)\n",
    "    return total_route"
   ],
   "metadata": {
    "collapsed": false,
    "pycharm": {
     "name": "#%%\n"
    }
   }
  },
  {
   "cell_type": "code",
   "execution_count": 67,
   "outputs": [],
   "source": [
    "def accuracy_generator(df,sequence):\n",
    "    all_accs = []\n",
    "    for ac in range(len(sequence)):\n",
    "#        actual = pd.read_csv(file[ac])['0']\n",
    "        actual = df['0']\n",
    "        actual = [sub.replace('Add','Formulation') for sub in actual]\n",
    "        pred = sequence[ac]\n",
    "        total_accs = []\n",
    "        for i in range(len(pred)):\n",
    "            acc = accuracy(pred[i],actual)\n",
    "#            temp_acc.append(acc)\n",
    "                #avg = np.average(temp_acc)\n",
    "            total_accs.append(acc)\n",
    "        all_accs.append(total_accs)\n",
    "    return all_accs"
   ],
   "metadata": {
    "collapsed": false,
    "pycharm": {
     "name": "#%%\n"
    }
   }
  },
  {
   "cell_type": "code",
   "execution_count": 86,
   "outputs": [],
   "source": [
    "actual = test['0']\n",
    "actual = [sub.replace('Add','Formulation') for sub in actual]\n",
    "pred = sequences[0]\n",
    "total_accs = []\n",
    "for i in range(len(pred)):\n",
    "    acc = accuracy(pred[i],actual)\n",
    "#    temp_acc.append(acc)\n",
    "    #avg = np.average(temp_acc)\n",
    "    total_accs.append(acc)"
   ],
   "metadata": {
    "collapsed": false,
    "pycharm": {
     "name": "#%%\n"
    }
   }
  },
  {
   "cell_type": "code",
   "execution_count": 87,
   "outputs": [
    {
     "data": {
      "text/plain": "50"
     },
     "execution_count": 87,
     "metadata": {},
     "output_type": "execute_result"
    }
   ],
   "source": [
    "len(total_accs)"
   ],
   "metadata": {
    "collapsed": false,
    "pycharm": {
     "name": "#%%\n"
    }
   }
  },
  {
   "cell_type": "code",
   "execution_count": 12,
   "outputs": [
    {
     "data": {
      "text/plain": "<matplotlib.legend.Legend at 0x26073064640>"
     },
     "execution_count": 12,
     "metadata": {},
     "output_type": "execute_result"
    },
    {
     "data": {
      "text/plain": "<Figure size 864x432 with 1 Axes>",
      "image/png": "[encoded data removed]"
     },
     "metadata": {
      "needs_background": "light"
     },
     "output_type": "display_data"
    }
   ],
   "source": [
    "performace = pd.read_csv(r'C:\\Users\\mhrahman\\OneDrive - University of Arkansas\\RL_\\performance.csv',index_col=None)\n",
    "h_perform = performace.sort_values('Weighted ANE')\n",
    "h_perform.plot.bar(x = 'Student',y='Weighted ANE',rot = 45,figsize = (12,6),colormap='Paired')\n",
    "plt.legend([\"Performance\"])"
   ],
   "metadata": {
    "collapsed": false,
    "pycharm": {
     "name": "#%%\n"
    }
   }
  },
  {
   "cell_type": "code",
   "execution_count": 26,
   "outputs": [],
   "source": [
    "high_perform_10 = list(h_perform['Student'])[-10:]\n",
    "low_perform_10 = list(h_perform['Student'])[:10]\n",
    "high_file = [i +'.csv' for i in high_perform_10]\n",
    "low_file = [i + '.csv' for i in low_perform_10]"
   ],
   "metadata": {
    "collapsed": false,
    "pycharm": {
     "name": "#%%\n"
    }
   }
  },
  {
   "cell_type": "code",
   "execution_count": 68,
   "outputs": [
    {
     "name": "stdout",
     "output_type": "stream",
     "text": [
      "Accuracy of F14.csv is: 0.6454135338345866\n",
      "Accuracy of D02.csv is: 0.6497029702970297\n",
      "Accuracy of F09.csv is: 0.3787341772151899\n",
      "Accuracy of G03.csv is: 0.22555555555555554\n",
      "Accuracy of A03.csv is: 0.4248979591836735\n",
      "Accuracy of C03.csv is: 0.5373469387755101\n",
      "Accuracy of F12.csv is: 0.2758024691358025\n",
      "Accuracy of C07.csv is: 0.47505376344086025\n",
      "Accuracy of E14.csv is: 0.3075\n",
      "Accuracy of G05.csv is: 0.6267326732673267\n"
     ]
    }
   ],
   "source": [
    "Q_T10_mean = []\n",
    "Q_T10_std = []\n",
    "for file in high_file:\n",
    "    a = pd.read_csv(file)\n",
    "    size = math.ceil(len(a) * 0.7)\n",
    "    train = a.loc[:size]\n",
    "    test = a.loc[size:].reset_index(drop= True)\n",
    "    reward = first_order(train)\n",
    "    Q = Q_table('Analysis',reward)\n",
    "    sequences = sequence_generator(test,Q,max= False)\n",
    "    all_accs = accuracy_generator(test, sequences)\n",
    "    mean_accs = np.mean(all_accs[-1])\n",
    "    mean_std = np.std(all_accs[-1])\n",
    "    Q_T10_mean.append(mean_accs)\n",
    "    Q_T10_std.append(mean_std)\n",
    "    print('Accuracy of {} is: {}'.format(file,mean_accs))"
   ],
   "metadata": {
    "collapsed": false,
    "pycharm": {
     "name": "#%%\n"
    }
   }
  },
  {
   "cell_type": "code",
   "execution_count": null,
   "outputs": [],
   "source": [
    "### Debug Start"
   ],
   "metadata": {
    "collapsed": false,
    "pycharm": {
     "name": "#%%\n"
    }
   }
  },
  {
   "cell_type": "code",
   "execution_count": 25,
   "outputs": [
    {
     "data": {
      "text/plain": "'G05.csv'"
     },
     "execution_count": 25,
     "metadata": {},
     "output_type": "execute_result"
    }
   ],
   "source": [
    "file"
   ],
   "metadata": {
    "collapsed": false,
    "pycharm": {
     "name": "#%%\n"
    }
   }
  },
  {
   "cell_type": "code",
   "execution_count": 40,
   "outputs": [
    {
     "data": {
      "text/plain": "              Show      Edit    Remove  Analysis       Add      Cost\nShow      0.333333  0.333333  0.000000  0.333333  0.000000  0.000000\nEdit      0.005319  0.840426  0.021277  0.010638  0.085106  0.037234\nRemove    0.000000  0.500000  0.333333  0.000000  0.166667  0.000000\nAnalysis  0.125000  0.875000  0.000000  0.000000  0.000000  0.000000\nAdd       0.000000  0.708333  0.000000  0.000000  0.250000  0.041667\nCost      0.000000  0.375000  0.000000  0.625000  0.000000  0.000000",
      "text/html": "<div>\n<style scoped>\n    .dataframe tbody tr th:only-of-type {\n        vertical-align: middle;\n    }\n\n    .dataframe tbody tr th {\n        vertical-align: top;\n    }\n\n    .dataframe thead th {\n        text-align: right;\n    }\n</style>\n<table border=\"1\" class=\"dataframe\">\n  <thead>\n    <tr style=\"text-align: right;\">\n      <th></th>\n      <th>Show</th>\n      <th>Edit</th>\n      <th>Remove</th>\n      <th>Analysis</th>\n      <th>Add</th>\n      <th>Cost</th>\n    </tr>\n  </thead>\n  <tbody>\n    <tr>\n      <th>Show</th>\n      <td>0.333333</td>\n      <td>0.333333</td>\n      <td>0.000000</td>\n      <td>0.333333</td>\n      <td>0.000000</td>\n      <td>0.000000</td>\n    </tr>\n    <tr>\n      <th>Edit</th>\n      <td>0.005319</td>\n      <td>0.840426</td>\n      <td>0.021277</td>\n      <td>0.010638</td>\n      <td>0.085106</td>\n      <td>0.037234</td>\n    </tr>\n    <tr>\n      <th>Remove</th>\n      <td>0.000000</td>\n      <td>0.500000</td>\n      <td>0.333333</td>\n      <td>0.000000</td>\n      <td>0.166667</td>\n      <td>0.000000</td>\n    </tr>\n    <tr>\n      <th>Analysis</th>\n      <td>0.125000</td>\n      <td>0.875000</td>\n      <td>0.000000</td>\n      <td>0.000000</td>\n      <td>0.000000</td>\n      <td>0.000000</td>\n    </tr>\n    <tr>\n      <th>Add</th>\n      <td>0.000000</td>\n      <td>0.708333</td>\n      <td>0.000000</td>\n      <td>0.000000</td>\n      <td>0.250000</td>\n      <td>0.041667</td>\n    </tr>\n    <tr>\n      <th>Cost</th>\n      <td>0.000000</td>\n      <td>0.375000</td>\n      <td>0.000000</td>\n      <td>0.625000</td>\n      <td>0.000000</td>\n      <td>0.000000</td>\n    </tr>\n  </tbody>\n</table>\n</div>"
     },
     "execution_count": 40,
     "metadata": {},
     "output_type": "execute_result"
    }
   ],
   "source": [
    "reward"
   ],
   "metadata": {
    "collapsed": false,
    "pycharm": {
     "name": "#%%\n"
    }
   }
  },
  {
   "cell_type": "code",
   "execution_count": 41,
   "outputs": [
    {
     "name": "stdout",
     "output_type": "stream",
     "text": [
      "[0.0, 0.375, 0.0, 0.625, 0.0, 0.0]\n"
     ]
    }
   ],
   "source": [
    "col_prob = np.array(reward.loc[test['0'][1]]).tolist()\n",
    "print(col_prob)"
   ],
   "metadata": {
    "collapsed": false,
    "pycharm": {
     "name": "#%%\n"
    }
   }
  },
  {
   "cell_type": "code",
   "execution_count": null,
   "outputs": [],
   "source": [],
   "metadata": {
    "collapsed": false,
    "pycharm": {
     "name": "#%%\n"
    }
   }
  },
  {
   "cell_type": "code",
   "execution_count": 32,
   "outputs": [
    {
     "data": {
      "text/plain": "array([[0.54449974, 0.6935157 , 0.25805471, 0.70388804, 0.32055471,\n        0.29866641],\n       [0.21648556, 1.2006079 , 0.2793313 , 0.38119301, 0.40566109,\n        0.33590045],\n       [0.21116641, 0.86018237, 0.59138804, 0.37055471, 0.48722138,\n        0.29866641],\n       [0.33616641, 1.23518237, 0.25805471, 0.37055471, 0.32055471,\n        0.29866641],\n       [0.21116641, 1.0685157 , 0.25805471, 0.37055471, 0.57055471,\n        0.34033308],\n       [0.21116641, 0.73518237, 0.25805471, 0.99555471, 0.32055471,\n        0.29866641]])"
     },
     "execution_count": 32,
     "metadata": {},
     "output_type": "execute_result"
    }
   ],
   "source": [
    "Q"
   ],
   "metadata": {
    "collapsed": false,
    "pycharm": {
     "name": "#%%\n"
    }
   }
  },
  {
   "cell_type": "code",
   "execution_count": 58,
   "outputs": [
    {
     "name": "stdout",
     "output_type": "stream",
     "text": [
      "[0.01433153 0.19686969 0.01811796 0.72371939 0.02476432 0.02219711]\n"
     ]
    }
   ],
   "source": [
    "prb = prob(5,Q[location_to_states[test['0'][1]],])\n",
    "print(prb)"
   ],
   "metadata": {
    "collapsed": false,
    "pycharm": {
     "name": "#%%\n"
    }
   }
  },
  {
   "cell_type": "code",
   "execution_count": 62,
   "outputs": [
    {
     "data": {
      "text/plain": "3"
     },
     "execution_count": 62,
     "metadata": {},
     "output_type": "execute_result"
    }
   ],
   "source": [
    "random.choices(np.arange(0,6),(prb))[0]"
   ],
   "metadata": {
    "collapsed": false,
    "pycharm": {
     "name": "#%%\n"
    }
   }
  },
  {
   "cell_type": "code",
   "execution_count": null,
   "outputs": [],
   "source": [
    "### DEBUG END"
   ],
   "metadata": {
    "collapsed": false,
    "pycharm": {
     "name": "#%%\n"
    }
   }
  },
  {
   "cell_type": "code",
   "execution_count": 69,
   "outputs": [
    {
     "name": "stdout",
     "output_type": "stream",
     "text": [
      "Accuracy of C11.csv is: 0.5057471264367815\n",
      "Accuracy of C06.csv is: 0.5\n",
      "Accuracy of D09.csv is: 0.5333333333333333\n",
      "Accuracy of G14.csv is: 0.20689655172413793\n",
      "Accuracy of B09.csv is: 0.171875\n",
      "Accuracy of G15.csv is: 0.3461538461538462\n",
      "Accuracy of D10.csv is: 0.19424460431654678\n",
      "Accuracy of G02.csv is: 0.4624999999999999\n",
      "Accuracy of C05.csv is: 0.35922330097087374\n",
      "Accuracy of A14.csv is: 0.7413793103448275\n"
     ]
    }
   ],
   "source": [
    "Q_L10_mean = []\n",
    "Q_L10_std = []\n",
    "for file in low_file:\n",
    "    a = pd.read_csv(file)\n",
    "    size = math.ceil(len(a) * 0.7)\n",
    "    train = a.loc[:size]\n",
    "    test = a.loc[size:].reset_index(drop= True)\n",
    "    reward = first_order(train)\n",
    "    Q = Q_table('Analysis',reward)\n",
    "    sequences = sequence_generator(test,Q,max=True)\n",
    "    all_accs = accuracy_generator(test, sequences)\n",
    "    mean_accs = np.mean(all_accs[-1])\n",
    "    mean_std = np.std(all_accs[-1])\n",
    "    Q_L10_mean.append(mean_accs)\n",
    "    Q_L10_std.append(mean_std)\n",
    "    print('Accuracy of {} is: {}'.format(file,mean_accs))"
   ],
   "metadata": {
    "collapsed": false,
    "pycharm": {
     "name": "#%%\n"
    }
   }
  },
  {
   "cell_type": "code",
   "execution_count": 70,
   "outputs": [],
   "source": [
    "Q_L10_pr = pd.DataFrame(list(zip(low_perform_10,Q_L10_mean)), columns=['Students','MC'])\n",
    "Q_L10_pr.to_csv(r'C:\\Users\\mhrahman\\OneDrive - University of Arkansas\\RL_\\Result\\Compare\\Q_L10_pr.csv')"
   ],
   "metadata": {
    "collapsed": false,
    "pycharm": {
     "name": "#%%\n"
    }
   }
  },
  {
   "cell_type": "code",
   "execution_count": 150,
   "outputs": [],
   "source": [
    "Q_L10_mx = pd.DataFrame(list(zip(low_perform_10,Q_L10_mean)), columns=['Students','MC'])\n",
    "Q_L10_mx.to_csv(r'C:\\Users\\mhrahman\\OneDrive - University of Arkansas\\RL_\\Result\\Compare\\Q_L10_mx.csv')"
   ],
   "metadata": {
    "collapsed": false,
    "pycharm": {
     "name": "#%%\n"
    }
   }
  },
  {
   "cell_type": "code",
   "execution_count": 154,
   "outputs": [],
   "source": [
    "Q_T10_mx = pd.DataFrame(list(zip(high_perform_10,Q_T10_mean)), columns=['Students','MC'])\n",
    "Q_T10_mx.to_csv(r'C:\\Users\\mhrahman\\OneDrive - University of Arkansas\\RL_\\Result\\Compare\\Q_T10_mx.csv')"
   ],
   "metadata": {
    "collapsed": false,
    "pycharm": {
     "name": "#%%\n"
    }
   }
  },
  {
   "cell_type": "code",
   "execution_count": 71,
   "outputs": [],
   "source": [
    "Q_T10_pr = pd.DataFrame(list(zip(high_perform_10,Q_T10_mean)), columns=['Students','MC'])\n",
    "Q_T10_pr.to_csv(r'C:\\Users\\mhrahman\\OneDrive - University of Arkansas\\RL_\\Result\\Compare\\Q_T10_pr.csv')"
   ],
   "metadata": {
    "collapsed": false,
    "pycharm": {
     "name": "#%%\n"
    }
   }
  },
  {
   "cell_type": "code",
   "execution_count": null,
   "outputs": [],
   "source": [],
   "metadata": {
    "collapsed": false,
    "pycharm": {
     "name": "#%%\n"
    }
   }
  }
 ],
 "metadata": {
  "kernelspec": {
   "display_name": "Python 3",
   "language": "python",
   "name": "python3"
  },
  "language_info": {
   "codemirror_mode": {
    "name": "ipython",
    "version": 2
   },
   "file_extension": ".py",
   "mimetype": "text/x-python",
   "name": "python",
   "nbconvert_exporter": "python",
   "pygments_lexer": "ipython2",
   "version": "2.7.6"
  }
 },
 "nbformat": 4,
 "nbformat_minor": 0
}